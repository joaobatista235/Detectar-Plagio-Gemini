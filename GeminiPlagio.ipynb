{
  "nbformat": 4,
  "nbformat_minor": 0,
  "metadata": {
    "colab": {
      "provenance": [],
      "authorship_tag": "ABX9TyNRSWHmAMP3I9LnHfgfDrpW",
      "include_colab_link": true
    },
    "kernelspec": {
      "name": "python3",
      "display_name": "Python 3"
    },
    "language_info": {
      "name": "python"
    }
  },
  "cells": [
    {
      "cell_type": "markdown",
      "metadata": {
        "id": "view-in-github",
        "colab_type": "text"
      },
      "source": [
        "<a href=\"https://colab.research.google.com/github/joaobatista235/Detectar-Plagio-Gemini/blob/main/GeminiPlagio.ipynb\" target=\"_parent\"><img src=\"https://colab.research.google.com/assets/colab-badge.svg\" alt=\"Open In Colab\"/></a>"
      ]
    },
    {
      "cell_type": "markdown",
      "source": [
        "**Importações e configuração de API**"
      ],
      "metadata": {
        "id": "hqZsT5bJ376M"
      }
    },
    {
      "cell_type": "code",
      "execution_count": 105,
      "metadata": {
        "id": "qDK-h7rqbQNo"
      },
      "outputs": [],
      "source": [
        "import google.generativeai as genai\n",
        "import numpy as np\n",
        "from sklearn.metrics.pairwise import cosine_similarity\n",
        "from google.colab import userdata\n",
        "\n",
        "API_KEY = userdata.get('SECRET_KEY')\n",
        "genai.configure(api_key=API_KEY)"
      ]
    },
    {
      "cell_type": "markdown",
      "source": [
        "**Banco de texto**"
      ],
      "metadata": {
        "id": "zdID72J_4B8d"
      }
    },
    {
      "cell_type": "code",
      "source": [
        "#Frases para verificar plágio\n",
        "textos_banco_de_dados = [\n",
        "  \"A vastidão do cosmos, com suas miríades de estrelas, sempre fascinou a humanidade. Desde os primórdios, o homem busca desvendar os mistérios do universo, explorando suas origens e buscando por vida além da Terra.\",\n",
        "  \"Na vastidão do espaço, a Via Láctea, nossa galáxia, se destaca como um espiral de poeira, gás e bilhões de estrelas. O Sol, nossa estrela, é apenas uma entre tantas nesse sistema gigantesco.\",\n",
        "  \"A busca por vida extraterrestre intriga cientistas e entusiastas. A possibilidade de encontrarmos outras formas de vida no universo levanta questões profundas sobre nossa própria existência e lugar no cosmos.\",\n",
        "  \"As estrelas, em sua dança cósmica, criam padrões complexos e fascinantes. Constelações, nebulosas e outros corpos celestes encantam nossos olhos e inspiram nossa imaginação.\",\n",
        "  \"A exploração espacial, com suas missões tripuladas e sondas robóticas, tem revelado maravilhas e desafios. A cada nova descoberta, expandimos nosso conhecimento sobre o universo e nossa compreensão da vida.\",\n",
        "  \"Olhando para o céu noturno, somos lembrados da imensidão do universo e da nossa própria pequenez. No entanto, a busca por conhecimento e a exploração do cosmos nos impulsionam a desvendar os mistérios que nos cercam.\"\n",
        "]\n",
        "\n",
        "#Frase de entrada que acusarão plágio\n",
        "textos_entrada = [\n",
        "    \"O cosmos fascina a humanidade desde os primórdios.\",\n",
        "    \"Nossa galáxia, a Via Láctea, é um espiral de poeira e gás.\",\n",
        "    \"Cientistas buscam vida extraterrestre no universo.\",\n",
        "    \"As estrelas formam padrões complexos no céu noturno.\",\n",
        "    \"A exploração espacial expande nosso conhecimento do universo.\",\n",
        "    \"O céu noturno nos lembra da imensidão do cosmos.\"\n",
        "]"
      ],
      "metadata": {
        "id": "VCbPXswQ4FXW"
      },
      "execution_count": 103,
      "outputs": []
    },
    {
      "cell_type": "markdown",
      "source": [
        "**Funções**"
      ],
      "metadata": {
        "id": "qFBnlZDS4QxW"
      }
    },
    {
      "cell_type": "code",
      "source": [
        "def gerar_embedding(texto):\n",
        " resposta = genai.embed_content(model='models/embedding-001', content=texto)[\"embedding\"]\n",
        " return resposta"
      ],
      "metadata": {
        "id": "2ICppn314P8e"
      },
      "execution_count": 98,
      "outputs": []
    },
    {
      "cell_type": "code",
      "source": [
        "def validar_similaridades(banco_de_dados, entrada):\n",
        "  similaridades = []\n",
        "  for embedding in banco_de_dados:\n",
        "    similaridade = cosine_similarity(entrada, [embedding])\n",
        "    similaridades.append(similaridade)\n",
        "\n",
        "  limite = 0.9\n",
        "  possiveis_plagios = np.where(np.array(similaridades) > limite)[0]\n",
        "  return possiveis_plagios"
      ],
      "metadata": {
        "id": "bvORZ9azN6I8"
      },
      "execution_count": 100,
      "outputs": []
    },
    {
      "cell_type": "markdown",
      "source": [
        "**Validação**"
      ],
      "metadata": {
        "id": "q6b5gaENNffH"
      }
    },
    {
      "cell_type": "code",
      "source": [
        "#Geração de embed\n",
        "embeddings_banco_de_dados = [gerar_embedding(texto) for texto in textos_banco_de_dados]\n",
        "embedding_entrada = gerar_embedding([input(\"Digite um texto para verificar plágio: \")])\n",
        "\n",
        "possiveis_plagios = validar_similaridades(embeddings_banco_de_dados, embedding_entrada)\n",
        "\n",
        "if len(possiveis_plagios) > 0:\n",
        " print(\"Possível plágio detectado:\")\n",
        " for indice in possiveis_plagios:\n",
        "  print(f\"- {textos_banco_de_dados[indice]}\")\n",
        "else:\n",
        " print(\"Nenhum plágio detectado.\")"
      ],
      "metadata": {
        "colab": {
          "base_uri": "https://localhost:8080/",
          "height": 92
        },
        "id": "7rsPZsmz9N45",
        "outputId": "4641fc63-bc9b-4385-ffb7-0a4e354c80e1"
      },
      "execution_count": 106,
      "outputs": [
        {
          "output_type": "stream",
          "name": "stdout",
          "text": [
            "Digite um texto para verificar plágio: Cientistas buscam vida extraterrestre no universo.\n",
            "Possível plágio detectado:\n",
            "- A busca por vida extraterrestre intriga cientistas e entusiastas. A possibilidade de encontrarmos outras formas de vida no universo levanta questões profundas sobre nossa própria existência e lugar no cosmos.\n"
          ]
        }
      ]
    }
  ]
}